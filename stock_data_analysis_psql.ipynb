{
 "cells": [
  {
   "cell_type": "markdown",
   "metadata": {},
   "source": [
    "## Stocks Data Analysis\n",
    "#### Financial Stock Data - ETL Process on FinanceApi+PSQL Database\n",
    "\n",
    "The goal of these files is to extract and save all valuable stock data from Finance Api that later will be loaded into a QlikSense app in order to get insights into US Stock Market.\n",
    "\n",
    "The resources that will be used in this project are the following.\n",
    "\n",
    "Python Libraries:\n",
    "\n",
    "1. Main Libraries:\n",
    "    - yfinance - To read Stok market : https://pypi.org/project/yfinance/\n",
    "    - iexcloud.io app - To read stock data, currently free account only for reading stocks tickets and sectors : https://iexcloud.io/\n",
    "    - psycopg2 - To save stock data to SQL Database : https://pypi.org/project/psycopg2/\n",
    "\n",
    "\n",
    "2. Secondary libraries\n",
    "    - requests library - To perform http & https requests to some web pages (in particular iexcloud.io)\n",
    "    - datetime library - To parse date and times in python\n",
    "    - pandas - To save stock data into pandas dataframes before saving into PSQL, also to combine with Matplotlib to view some charts & trends\n",
    "    - Matplot lib - To display some insights in Python from PSQL or Pandas Df\n",
    "    - io & os libraries - Secondary functionalities on reading current computer private keys & folder structure"
   ]
  },
  {
   "cell_type": "markdown",
   "metadata": {},
   "source": [
    "First operation is to call lib library, initiating \\__init__.py file, that will load secondary and ad-hoc functions, these functions will be commented inside the files and here only by their main functionalities"
   ]
  },
  {
   "cell_type": "code",
   "execution_count": 1,
   "metadata": {},
   "outputs": [
    {
     "name": "stdout",
     "output_type": "stream",
     "text": [
      "Connection to Database\n"
     ]
    }
   ],
   "source": [
    "from lib import *"
   ]
  },
  {
   "cell_type": "markdown",
   "metadata": {},
   "source": [
    "The following code will import all tickets available right now in NASDAQ (NAS), and NYSE (NYS) stock markets, for this we will need to set up locally in the computer pk & secret keys from iexcloud platform, as the requests that we will perform won't be charged we can use PROD keys\n",
    "\n",
    "<img src=\"images/Console _ IEX Cloud.png\" width=\"600\" height=\"400\" style=\"float:left\">\n",
    "<img src=\"images/Environment Variables.png\" width=\"300\" height=\"200\" style=\"float:left\">\n"
   ]
  },
  {
   "cell_type": "code",
   "execution_count": 2,
   "metadata": {},
   "outputs": [
    {
     "name": "stdout",
     "output_type": "stream",
     "text": [
      "Exchange NAS  - Symbols size - Type: cs\n",
      "Exchange NYS  - Symbols size - Type: cs\n",
      "NAS    2909\n",
      "Name: exchange, dtype: int64\n",
      "NYS    2210\n",
      "Name: exchange, dtype: int64\n"
     ]
    }
   ],
   "source": [
    "nas_symbols=request_symbols(hostPROD, access_key_prd, 'NAS', 'cs')\n",
    "nys_symbols=request_symbols(hostPROD, access_key_prd, 'NYS', 'cs')\n",
    "print(nas_symbols.exchange.value_counts())\n",
    "print(nys_symbols.exchange.value_counts())"
   ]
  },
  {
   "cell_type": "code",
   "execution_count": null,
   "metadata": {},
   "outputs": [],
   "source": [
    "_symbols_arr=getSymbolsArrays(nas_symbols,200)"
   ]
  },
  {
   "cell_type": "code",
   "execution_count": null,
   "metadata": {},
   "outputs": [],
   "source": [
    "nas_symbols.head()"
   ]
  },
  {
   "cell_type": "code",
   "execution_count": null,
   "metadata": {},
   "outputs": [],
   "source": [
    "nys_companies=get_symbols_master(nys_symbols,hostPROD, access_key_prd,'master_nys')\n",
    "nas_companies=get_symbols_master(nas_symbols,hostPROD, access_key_prd,'master_nas')\n",
    "\n",
    "print(len(nys_companies))\n",
    "print(len(nas_companies))"
   ]
  },
  {
   "cell_type": "code",
   "execution_count": null,
   "metadata": {},
   "outputs": [],
   "source": [
    "nas_companies.head()"
   ]
  },
  {
   "cell_type": "code",
   "execution_count": null,
   "metadata": {},
   "outputs": [],
   "source": [
    "nas_companies[nas_companies.symbol=='AAPL']"
   ]
  },
  {
   "cell_type": "code",
   "execution_count": null,
   "metadata": {},
   "outputs": [],
   "source": [
    "for index, row  in nas_symbols.iloc[0:5].iterrows():\n",
    "    print(row['symbol'])\n",
    "    "
   ]
  },
  {
   "cell_type": "code",
   "execution_count": 4,
   "metadata": {},
   "outputs": [
    {
     "data": {
      "text/html": [
       "<div>\n",
       "<style scoped>\n",
       "    .dataframe tbody tr th:only-of-type {\n",
       "        vertical-align: middle;\n",
       "    }\n",
       "\n",
       "    .dataframe tbody tr th {\n",
       "        vertical-align: top;\n",
       "    }\n",
       "\n",
       "    .dataframe thead th {\n",
       "        text-align: right;\n",
       "    }\n",
       "</style>\n",
       "<table border=\"1\" class=\"dataframe\">\n",
       "  <thead>\n",
       "    <tr style=\"text-align: right;\">\n",
       "      <th></th>\n",
       "      <th>symbol</th>\n",
       "      <th>exchange</th>\n",
       "      <th>exchangeSuffix</th>\n",
       "      <th>exchangeName</th>\n",
       "      <th>name</th>\n",
       "      <th>date</th>\n",
       "      <th>type</th>\n",
       "      <th>iexId</th>\n",
       "      <th>region</th>\n",
       "      <th>currency</th>\n",
       "      <th>isEnabled</th>\n",
       "      <th>figi</th>\n",
       "      <th>cik</th>\n",
       "      <th>lei</th>\n",
       "    </tr>\n",
       "  </thead>\n",
       "  <tbody>\n",
       "    <tr>\n",
       "      <td>6</td>\n",
       "      <td>AACQ</td>\n",
       "      <td>NAS</td>\n",
       "      <td>NaN</td>\n",
       "      <td>NASDAQ CAPITAL MARKET</td>\n",
       "      <td>Artius Acquisition Inc - Class A</td>\n",
       "      <td>2021-02-15</td>\n",
       "      <td>cs</td>\n",
       "      <td>IEX_5230483539302D52</td>\n",
       "      <td>US</td>\n",
       "      <td>USD</td>\n",
       "      <td>True</td>\n",
       "      <td>BBG00VR487K7</td>\n",
       "      <td>1802457.0</td>\n",
       "      <td>NaN</td>\n",
       "    </tr>\n",
       "    <tr>\n",
       "      <td>13</td>\n",
       "      <td>AAL</td>\n",
       "      <td>NAS</td>\n",
       "      <td>NaN</td>\n",
       "      <td>NASDAQ/NGS (GLOBAL SELECT MARKET)</td>\n",
       "      <td>American Airlines Group Inc</td>\n",
       "      <td>2021-02-15</td>\n",
       "      <td>cs</td>\n",
       "      <td>IEX_4353464A535A2D52</td>\n",
       "      <td>US</td>\n",
       "      <td>USD</td>\n",
       "      <td>True</td>\n",
       "      <td>BBG005P7Q881</td>\n",
       "      <td>6201.0</td>\n",
       "      <td>IWUQB36BXD6OWD6X4T14</td>\n",
       "    </tr>\n",
       "    <tr>\n",
       "      <td>15</td>\n",
       "      <td>AAME</td>\n",
       "      <td>NAS</td>\n",
       "      <td>NaN</td>\n",
       "      <td>NASDAQ/NMS (GLOBAL MARKET)</td>\n",
       "      <td>Atlantic American Corp.</td>\n",
       "      <td>2021-02-15</td>\n",
       "      <td>cs</td>\n",
       "      <td>IEX_5737584C53442D52</td>\n",
       "      <td>US</td>\n",
       "      <td>USD</td>\n",
       "      <td>True</td>\n",
       "      <td>BBG000B9XB24</td>\n",
       "      <td>8177.0</td>\n",
       "      <td>NaN</td>\n",
       "    </tr>\n",
       "    <tr>\n",
       "      <td>17</td>\n",
       "      <td>AAOI</td>\n",
       "      <td>NAS</td>\n",
       "      <td>NaN</td>\n",
       "      <td>NASDAQ/NMS (GLOBAL MARKET)</td>\n",
       "      <td>Applied Optoelectronics Inc</td>\n",
       "      <td>2021-02-15</td>\n",
       "      <td>cs</td>\n",
       "      <td>IEX_4C394B5933512D52</td>\n",
       "      <td>US</td>\n",
       "      <td>USD</td>\n",
       "      <td>True</td>\n",
       "      <td>BBG000D6VW15</td>\n",
       "      <td>1158114.0</td>\n",
       "      <td>529900I8U6Q5SYDNLT48</td>\n",
       "    </tr>\n",
       "    <tr>\n",
       "      <td>18</td>\n",
       "      <td>AAON</td>\n",
       "      <td>NAS</td>\n",
       "      <td>NaN</td>\n",
       "      <td>NASDAQ/NGS (GLOBAL SELECT MARKET)</td>\n",
       "      <td>AAON Inc.</td>\n",
       "      <td>2021-02-15</td>\n",
       "      <td>cs</td>\n",
       "      <td>IEX_4E57434244582D52</td>\n",
       "      <td>US</td>\n",
       "      <td>USD</td>\n",
       "      <td>True</td>\n",
       "      <td>BBG000C2LZP3</td>\n",
       "      <td>824142.0</td>\n",
       "      <td>NaN</td>\n",
       "    </tr>\n",
       "  </tbody>\n",
       "</table>\n",
       "</div>"
      ],
      "text/plain": [
       "   symbol exchange exchangeSuffix                       exchangeName  \\\n",
       "6    AACQ      NAS            NaN              NASDAQ CAPITAL MARKET   \n",
       "13    AAL      NAS            NaN  NASDAQ/NGS (GLOBAL SELECT MARKET)   \n",
       "15   AAME      NAS            NaN         NASDAQ/NMS (GLOBAL MARKET)   \n",
       "17   AAOI      NAS            NaN         NASDAQ/NMS (GLOBAL MARKET)   \n",
       "18   AAON      NAS            NaN  NASDAQ/NGS (GLOBAL SELECT MARKET)   \n",
       "\n",
       "                                name        date type                 iexId  \\\n",
       "6   Artius Acquisition Inc - Class A  2021-02-15   cs  IEX_5230483539302D52   \n",
       "13       American Airlines Group Inc  2021-02-15   cs  IEX_4353464A535A2D52   \n",
       "15           Atlantic American Corp.  2021-02-15   cs  IEX_5737584C53442D52   \n",
       "17       Applied Optoelectronics Inc  2021-02-15   cs  IEX_4C394B5933512D52   \n",
       "18                         AAON Inc.  2021-02-15   cs  IEX_4E57434244582D52   \n",
       "\n",
       "   region currency  isEnabled          figi        cik                   lei  \n",
       "6      US      USD       True  BBG00VR487K7  1802457.0                   NaN  \n",
       "13     US      USD       True  BBG005P7Q881     6201.0  IWUQB36BXD6OWD6X4T14  \n",
       "15     US      USD       True  BBG000B9XB24     8177.0                   NaN  \n",
       "17     US      USD       True  BBG000D6VW15  1158114.0  529900I8U6Q5SYDNLT48  \n",
       "18     US      USD       True  BBG000C2LZP3   824142.0                   NaN  "
      ]
     },
     "execution_count": 4,
     "metadata": {},
     "output_type": "execute_result"
    }
   ],
   "source": [
    "nas_symbols.iloc[0:5].head()"
   ]
  },
  {
   "cell_type": "code",
   "execution_count": 3,
   "metadata": {},
   "outputs": [
    {
     "name": "stdout",
     "output_type": "stream",
     "text": [
      "Start -- Save All symbols master to DB   -  2021-02-15 22:36:28.316326\n"
     ]
    },
    {
     "ename": "KeyError",
     "evalue": "'sector'",
     "output_type": "error",
     "traceback": [
      "\u001b[1;31m---------------------------------------------------------------------------\u001b[0m",
      "\u001b[1;31mKeyError\u001b[0m                                  Traceback (most recent call last)",
      "\u001b[1;32m<ipython-input-3-9d45d65091c1>\u001b[0m in \u001b[0;36m<module>\u001b[1;34m\u001b[0m\n\u001b[1;32m----> 1\u001b[1;33m \u001b[0mdf\u001b[0m\u001b[1;33m=\u001b[0m \u001b[0mget_symbols_master_database\u001b[0m\u001b[1;33m(\u001b[0m\u001b[0mnas_symbols\u001b[0m\u001b[1;33m.\u001b[0m\u001b[0miloc\u001b[0m\u001b[1;33m[\u001b[0m\u001b[1;36m0\u001b[0m\u001b[1;33m:\u001b[0m\u001b[1;36m5\u001b[0m\u001b[1;33m]\u001b[0m\u001b[1;33m,\u001b[0m\u001b[1;34m'nasdaq'\u001b[0m\u001b[1;33m)\u001b[0m\u001b[1;33m\u001b[0m\u001b[1;33m\u001b[0m\u001b[0m\n\u001b[0m",
      "\u001b[1;32m~\\OneDrive\\Escritorio\\Python Projects\\stocks\\stocks\\lib\\get_symbols\\master_symbols.py\u001b[0m in \u001b[0;36mget_symbols_master_database\u001b[1;34m(_symbols, _exchange)\u001b[0m\n\u001b[0;32m     64\u001b[0m                                                         \u001b[1;34m'name'\u001b[0m\u001b[1;33m:\u001b[0m\u001b[0m_ticketinfo\u001b[0m\u001b[1;33m[\u001b[0m\u001b[1;34m'shortName'\u001b[0m\u001b[1;33m]\u001b[0m\u001b[1;33m,\u001b[0m\u001b[1;33m\u001b[0m\u001b[1;33m\u001b[0m\u001b[0m\n\u001b[0;32m     65\u001b[0m                                                         \u001b[1;34m'exchange'\u001b[0m\u001b[1;33m:\u001b[0m\u001b[0m_exchange\u001b[0m\u001b[1;33m,\u001b[0m\u001b[1;33m\u001b[0m\u001b[1;33m\u001b[0m\u001b[0m\n\u001b[1;32m---> 66\u001b[1;33m                                                         \u001b[1;34m'sector'\u001b[0m\u001b[1;33m:\u001b[0m\u001b[0m_ticketinfo\u001b[0m\u001b[1;33m[\u001b[0m\u001b[1;34m'sector'\u001b[0m\u001b[1;33m]\u001b[0m\u001b[1;33m,\u001b[0m\u001b[1;33m\u001b[0m\u001b[1;33m\u001b[0m\u001b[0m\n\u001b[0m\u001b[0;32m     67\u001b[0m                                                         \u001b[1;34m'trailing_pe'\u001b[0m\u001b[1;33m:\u001b[0m\u001b[0m_ticketinfo\u001b[0m\u001b[1;33m[\u001b[0m\u001b[1;34m'trailingPE'\u001b[0m\u001b[1;33m]\u001b[0m\u001b[1;33m,\u001b[0m\u001b[1;33m\u001b[0m\u001b[1;33m\u001b[0m\u001b[0m\n\u001b[0;32m     68\u001b[0m                                                         \u001b[1;34m'forward_pe'\u001b[0m\u001b[1;33m:\u001b[0m\u001b[0m_ticketinfo\u001b[0m\u001b[1;33m[\u001b[0m\u001b[1;34m'forwardPE'\u001b[0m\u001b[1;33m]\u001b[0m\u001b[1;33m,\u001b[0m\u001b[1;33m\u001b[0m\u001b[1;33m\u001b[0m\u001b[0m\n",
      "\u001b[1;31mKeyError\u001b[0m: 'sector'"
     ]
    }
   ],
   "source": [
    "df= get_symbols_master_database(nas_symbols.iloc[0:5],'nasdaq')"
   ]
  },
  {
   "cell_type": "code",
   "execution_count": 8,
   "metadata": {},
   "outputs": [],
   "source": [
    "a=yf.Ticker('AAME').info"
   ]
  },
  {
   "cell_type": "code",
   "execution_count": 9,
   "metadata": {},
   "outputs": [
    {
     "data": {
      "text/plain": [
       "{'zip': '30319',\n",
       " 'sector': 'Financial Services',\n",
       " 'fullTimeEmployees': 151,\n",
       " 'longBusinessSummary': 'Atlantic American Corporation, through its subsidiaries, provides life and health, and property and casualty insurance products in the United States. It operates through American Southern and Bankers Fidelity segments. The company offers property and casualty insurance products, including business automobile insurance coverage for state governments, local municipalities, and other motor pools and fleets; and inland marine and general liability insurance products. It also provides surety bond coverage for school bus transportation and subdivision construction, as well as performance and payment bonds. In addition, it provides term, individual and group whole life insurance, as well as medicare supplement and other accident and health insurance products. The company markets its products through independent agents and brokers. Atlantic American Corporation was founded in 1968 and is based in Atlanta, Georgia.',\n",
       " 'city': 'Atlanta',\n",
       " 'phone': '404-266-5500',\n",
       " 'state': 'GA',\n",
       " 'country': 'United States',\n",
       " 'companyOfficers': [],\n",
       " 'website': 'http://www.atlam.com',\n",
       " 'maxAge': 1,\n",
       " 'address1': '4370 Peachtree Road, NE',\n",
       " 'industry': 'Insurance—Life',\n",
       " 'previousClose': 5.26,\n",
       " 'regularMarketOpen': 5.35,\n",
       " 'twoHundredDayAverage': 2.288613,\n",
       " 'trailingAnnualDividendYield': 0.003802281,\n",
       " 'payoutRatio': 0,\n",
       " 'volume24Hr': None,\n",
       " 'regularMarketDayHigh': 6.88,\n",
       " 'navPrice': None,\n",
       " 'averageDailyVolume10Day': 21261300,\n",
       " 'totalAssets': None,\n",
       " 'regularMarketPreviousClose': 5.26,\n",
       " 'fiftyDayAverage': 2.959091,\n",
       " 'trailingAnnualDividendRate': 0.02,\n",
       " 'open': 5.35,\n",
       " 'toCurrency': None,\n",
       " 'averageVolume10days': 21261300,\n",
       " 'expireDate': None,\n",
       " 'yield': None,\n",
       " 'algorithm': None,\n",
       " 'dividendRate': None,\n",
       " 'exDividendDate': 1554768000,\n",
       " 'beta': 0.169156,\n",
       " 'circulatingSupply': None,\n",
       " 'startDate': None,\n",
       " 'regularMarketDayLow': 5.3,\n",
       " 'priceHint': 2,\n",
       " 'currency': 'USD',\n",
       " 'trailingPE': 98.44828,\n",
       " 'regularMarketVolume': 2251739,\n",
       " 'lastMarket': None,\n",
       " 'maxSupply': None,\n",
       " 'openInterest': None,\n",
       " 'marketCap': 116565656,\n",
       " 'volumeAllCurrencies': None,\n",
       " 'strikePrice': None,\n",
       " 'averageVolume': 2120326,\n",
       " 'priceToSalesTrailing12Months': 0.6210046,\n",
       " 'dayLow': 5.3,\n",
       " 'ask': 5.57,\n",
       " 'ytdReturn': None,\n",
       " 'askSize': 1000,\n",
       " 'volume': 2251739,\n",
       " 'fiftyTwoWeekHigh': 15.97,\n",
       " 'forwardPE': None,\n",
       " 'fromCurrency': None,\n",
       " 'fiveYearAvgDividendYield': None,\n",
       " 'fiftyTwoWeekLow': 1.58,\n",
       " 'bid': 5.55,\n",
       " 'tradeable': False,\n",
       " 'dividendYield': None,\n",
       " 'bidSize': 1100,\n",
       " 'dayHigh': 6.88,\n",
       " 'exchange': 'NGM',\n",
       " 'shortName': 'Atlantic American Corporation',\n",
       " 'longName': 'Atlantic American Corporation',\n",
       " 'exchangeTimezoneName': 'America/New_York',\n",
       " 'exchangeTimezoneShortName': 'EST',\n",
       " 'isEsgPopulated': False,\n",
       " 'gmtOffSetMilliseconds': '-18000000',\n",
       " 'quoteType': 'EQUITY',\n",
       " 'symbol': 'AAME',\n",
       " 'messageBoardId': 'finmb_252124',\n",
       " 'market': 'us_market',\n",
       " 'annualHoldingsTurnover': None,\n",
       " 'enterpriseToRevenue': 0.782,\n",
       " 'beta3Year': None,\n",
       " 'profitMargins': 0.00848,\n",
       " 'enterpriseToEbitda': 28.982,\n",
       " '52WeekChange': 1.2217898,\n",
       " 'morningStarRiskRating': None,\n",
       " 'forwardEps': None,\n",
       " 'revenueQuarterlyGrowth': None,\n",
       " 'sharesOutstanding': 20414300,\n",
       " 'fundInceptionDate': None,\n",
       " 'annualReportExpenseRatio': None,\n",
       " 'bookValue': 6.268,\n",
       " 'sharesShort': 1611,\n",
       " 'sharesPercentSharesOut': 0.0001,\n",
       " 'fundFamily': None,\n",
       " 'lastFiscalYearEnd': 1577750400,\n",
       " 'heldPercentInstitutions': 0.05524,\n",
       " 'netIncomeToCommon': 1192000,\n",
       " 'trailingEps': 0.058,\n",
       " 'lastDividendValue': 0.02,\n",
       " 'SandP52WeekChange': 0.1675049,\n",
       " 'priceToBook': 0.91097635,\n",
       " 'heldPercentInsiders': 0.80026,\n",
       " 'nextFiscalYearEnd': 1640908800,\n",
       " 'mostRecentQuarter': 1601424000,\n",
       " 'shortRatio': 0.02,\n",
       " 'sharesShortPreviousMonthDate': 1609372800,\n",
       " 'floatShares': 3146045,\n",
       " 'enterpriseValue': 146853536,\n",
       " 'threeYearAverageReturn': None,\n",
       " 'lastSplitDate': 531446400,\n",
       " 'lastSplitFactor': '5:4',\n",
       " 'legalType': None,\n",
       " 'lastDividendDate': 1554768000,\n",
       " 'morningStarOverallRating': None,\n",
       " 'earningsQuarterlyGrowth': None,\n",
       " 'dateShortInterest': 1611878400,\n",
       " 'pegRatio': None,\n",
       " 'lastCapGain': None,\n",
       " 'shortPercentOfFloat': 0.0004,\n",
       " 'sharesShortPriorMonth': 5271,\n",
       " 'impliedSharesOutstanding': None,\n",
       " 'category': None,\n",
       " 'fiveYearAverageReturn': None,\n",
       " 'regularMarketPrice': 5.35,\n",
       " 'logo_url': 'https://logo.clearbit.com/atlam.com'}"
      ]
     },
     "execution_count": 9,
     "metadata": {},
     "output_type": "execute_result"
    }
   ],
   "source": [
    "a"
   ]
  },
  {
   "cell_type": "code",
   "execution_count": null,
   "metadata": {},
   "outputs": [],
   "source": []
  }
 ],
 "metadata": {
  "kernelspec": {
   "display_name": "Python 3",
   "language": "python",
   "name": "python3"
  },
  "language_info": {
   "codemirror_mode": {
    "name": "ipython",
    "version": 3
   },
   "file_extension": ".py",
   "mimetype": "text/x-python",
   "name": "python",
   "nbconvert_exporter": "python",
   "pygments_lexer": "ipython3",
   "version": "3.7.4"
  }
 },
 "nbformat": 4,
 "nbformat_minor": 2
}
