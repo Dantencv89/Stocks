{
 "cells": [
  {
   "cell_type": "code",
   "execution_count": 22,
   "metadata": {},
   "outputs": [],
   "source": [
    "import psycopg2\n",
    "import os\n",
    "\n",
    "stockhost = os.environ.get('STOCKS_DATABASE_LOCALHOST')\n",
    "#stockhost = os.environ.get('STOCKS_DATABASE_HOST')\n",
    "stockdb = os.environ.get('STOCKS_DATABASE_DB')\n",
    "stockuser = os.environ.get('STOCKS_DATABASE_USER')\n",
    "stockpwd = os.environ.get('STOCKS_DATABASE_PWD')\n",
    "\n",
    "try:\n",
    "    conn = psycopg2.connect(\n",
    "        host=stockhost,\n",
    "        user=stockuser,\n",
    "        database=stockdb,\n",
    "        password=stockpwd\n",
    "    )\n",
    "    conn.set_session(autocommit=True)\n",
    "    \n",
    "except psycopg2.Error as e:\n",
    "    print(\"Error could not make connection to postgres database\")\n",
    "    print(e)\n",
    "try:\n",
    "    cur= conn.cursor()\n",
    "except psycopg2.Error as e:\n",
    "    print(\"Error could not get curser to postgres database\")\n",
    "    print(e)"
   ]
  },
  {
   "cell_type": "code",
   "execution_count": 25,
   "metadata": {},
   "outputs": [],
   "source": [
    "# cur.execute('DROP TABLE companies');\n",
    "try:\n",
    "    cur.execute(\n",
    "    \"CREATE TABLE IF NOT EXISTS companies ( \\\n",
    "    symbol varchar PRIMARY KEY, \\\n",
    "    name varchar NOT NULL,\\\n",
    "    exchange varchar NOT NULL,\\\n",
    "    sector varchar,\\\n",
    "    summary varchar, \\\n",
    "    timestamp timestamp default current_timestamp);\")\n",
    "    \n",
    "except psycopg2.Error as e:\n",
    "    print(\"Error Issue creating a table\")\n",
    "    print(e)\n",
    "    \n",
    "# Alter table : https://www.postgresql.org/docs/9.1/sql-altertable.html"
   ]
  },
  {
   "cell_type": "code",
   "execution_count": 34,
   "metadata": {},
   "outputs": [],
   "source": [
    "try:\n",
    "    cur.execute(\n",
    "    \"CREATE TABLE IF NOT EXISTS dailystocks ( \\\n",
    "    date date, \\\n",
    "    symbol varchar REFERENCES companies , \\\n",
    "    open numeric NOT NULL,\\\n",
    "    high numeric NOT NULL,\\\n",
    "    low numeric NOT NULL,\\\n",
    "    close numeric NOT NULL,\\\n",
    "    volume numeric NOT NULL ,\\\n",
    "    splits numeric,\\\n",
    "    dividends numeric, \\\n",
    "    timestamp timestamp default current_timestamp, \\\n",
    "    PRIMARY KEY (date, symbol));\")\n",
    "    \n",
    "except psycopg2.Error as e:\n",
    "    print(\"Error Issue creating a table\")\n",
    "    print(e)\n",
    "\n",
    "#    https://www.postgresql.org/docs/8.1/ddl-constraints.html\n",
    "#    product_no integer REFERENCES products ON DELETE RESTRICT,\n",
    "#    order_id integer REFERENCES orders ON DELETE CASCADE"
   ]
  },
  {
   "cell_type": "code",
   "execution_count": 35,
   "metadata": {},
   "outputs": [
    {
     "data": {
      "text/html": [
       "<div>\n",
       "<style scoped>\n",
       "    .dataframe tbody tr th:only-of-type {\n",
       "        vertical-align: middle;\n",
       "    }\n",
       "\n",
       "    .dataframe tbody tr th {\n",
       "        vertical-align: top;\n",
       "    }\n",
       "\n",
       "    .dataframe thead th {\n",
       "        text-align: right;\n",
       "    }\n",
       "</style>\n",
       "<table border=\"1\" class=\"dataframe\">\n",
       "  <thead>\n",
       "    <tr style=\"text-align: right;\">\n",
       "      <th></th>\n",
       "      <th>Date</th>\n",
       "      <th>Open</th>\n",
       "      <th>High</th>\n",
       "      <th>Low</th>\n",
       "      <th>Close</th>\n",
       "      <th>Volume</th>\n",
       "      <th>Dividends</th>\n",
       "      <th>Stock Splits</th>\n",
       "      <th>symbol</th>\n",
       "    </tr>\n",
       "  </thead>\n",
       "  <tbody>\n",
       "    <tr>\n",
       "      <td>0</td>\n",
       "      <td>2020-08-31</td>\n",
       "      <td>226.407249</td>\n",
       "      <td>228.102806</td>\n",
       "      <td>223.724270</td>\n",
       "      <td>224.941086</td>\n",
       "      <td>28774200</td>\n",
       "      <td>0.0</td>\n",
       "      <td>0</td>\n",
       "      <td>msft</td>\n",
       "    </tr>\n",
       "    <tr>\n",
       "      <td>1</td>\n",
       "      <td>2020-09-01</td>\n",
       "      <td>224.921145</td>\n",
       "      <td>226.856082</td>\n",
       "      <td>223.843964</td>\n",
       "      <td>226.676559</td>\n",
       "      <td>25791200</td>\n",
       "      <td>0.0</td>\n",
       "      <td>0</td>\n",
       "      <td>msft</td>\n",
       "    </tr>\n",
       "    <tr>\n",
       "      <td>2</td>\n",
       "      <td>2020-09-02</td>\n",
       "      <td>227.374722</td>\n",
       "      <td>232.251952</td>\n",
       "      <td>226.756345</td>\n",
       "      <td>231.045105</td>\n",
       "      <td>34080800</td>\n",
       "      <td>0.0</td>\n",
       "      <td>0</td>\n",
       "      <td>msft</td>\n",
       "    </tr>\n",
       "    <tr>\n",
       "      <td>3</td>\n",
       "      <td>2020-09-03</td>\n",
       "      <td>228.671335</td>\n",
       "      <td>228.711224</td>\n",
       "      <td>214.398704</td>\n",
       "      <td>216.732590</td>\n",
       "      <td>58400300</td>\n",
       "      <td>0.0</td>\n",
       "      <td>0</td>\n",
       "      <td>msft</td>\n",
       "    </tr>\n",
       "    <tr>\n",
       "      <td>4</td>\n",
       "      <td>2020-09-04</td>\n",
       "      <td>214.538338</td>\n",
       "      <td>217.789820</td>\n",
       "      <td>204.654212</td>\n",
       "      <td>213.690552</td>\n",
       "      <td>59664100</td>\n",
       "      <td>0.0</td>\n",
       "      <td>0</td>\n",
       "      <td>msft</td>\n",
       "    </tr>\n",
       "  </tbody>\n",
       "</table>\n",
       "</div>"
      ],
      "text/plain": [
       "        Date        Open        High         Low       Close    Volume  \\\n",
       "0 2020-08-31  226.407249  228.102806  223.724270  224.941086  28774200   \n",
       "1 2020-09-01  224.921145  226.856082  223.843964  226.676559  25791200   \n",
       "2 2020-09-02  227.374722  232.251952  226.756345  231.045105  34080800   \n",
       "3 2020-09-03  228.671335  228.711224  214.398704  216.732590  58400300   \n",
       "4 2020-09-04  214.538338  217.789820  204.654212  213.690552  59664100   \n",
       "\n",
       "   Dividends  Stock Splits symbol  \n",
       "0        0.0             0   msft  \n",
       "1        0.0             0   msft  \n",
       "2        0.0             0   msft  \n",
       "3        0.0             0   msft  \n",
       "4        0.0             0   msft  "
      ]
     },
     "execution_count": 35,
     "metadata": {},
     "output_type": "execute_result"
    }
   ],
   "source": [
    "import pandas as pd\n",
    "import yfinance as yf\n",
    "import matplotlib.pyplot as  plt\n",
    "\n",
    "\n",
    "msft = yf.Ticker('msft')\n",
    "msft_data = msft.history(start=\"2020-09-01\",interval='1d')\n",
    "msft_data.reset_index(inplace=True)\n",
    "msft_data['symbol']= 'msft'\n",
    "msft_data.head()\n"
   ]
  },
  {
   "cell_type": "code",
   "execution_count": 39,
   "metadata": {},
   "outputs": [],
   "source": [
    "from sqlalchemy import create_engine\n",
    "postgresqlpath='postgresql://' + stockuser+':'+stockpwd +'@' +stockhost +':5432/' + stockdb\n",
    "engine = create_engine(postgresqlpath, echo=True)\n"
   ]
  },
  {
   "cell_type": "code",
   "execution_count": 49,
   "metadata": {},
   "outputs": [],
   "source": [
    "msft_data.rename(columns={\"Date\": \"date\", \"Open\": \"open\", \"High\": \"high\", \"Close\": \"close\", \"Low\": \"low\", \n",
    "                          \"Dividends\": \"dividends\", \"Volume\": \"volume\", \"Stock Splits\": \"splits\"},inplace=True)"
   ]
  },
  {
   "cell_type": "code",
   "execution_count": 50,
   "metadata": {},
   "outputs": [
    {
     "data": {
      "text/html": [
       "<div>\n",
       "<style scoped>\n",
       "    .dataframe tbody tr th:only-of-type {\n",
       "        vertical-align: middle;\n",
       "    }\n",
       "\n",
       "    .dataframe tbody tr th {\n",
       "        vertical-align: top;\n",
       "    }\n",
       "\n",
       "    .dataframe thead th {\n",
       "        text-align: right;\n",
       "    }\n",
       "</style>\n",
       "<table border=\"1\" class=\"dataframe\">\n",
       "  <thead>\n",
       "    <tr style=\"text-align: right;\">\n",
       "      <th></th>\n",
       "      <th>date</th>\n",
       "      <th>open</th>\n",
       "      <th>high</th>\n",
       "      <th>low</th>\n",
       "      <th>close</th>\n",
       "      <th>volume</th>\n",
       "      <th>dividends</th>\n",
       "      <th>splits</th>\n",
       "      <th>symbol</th>\n",
       "    </tr>\n",
       "  </thead>\n",
       "  <tbody>\n",
       "    <tr>\n",
       "      <td>0</td>\n",
       "      <td>2020-08-31</td>\n",
       "      <td>226.407249</td>\n",
       "      <td>228.102806</td>\n",
       "      <td>223.724270</td>\n",
       "      <td>224.941086</td>\n",
       "      <td>28774200</td>\n",
       "      <td>0.0</td>\n",
       "      <td>0</td>\n",
       "      <td>msft</td>\n",
       "    </tr>\n",
       "    <tr>\n",
       "      <td>1</td>\n",
       "      <td>2020-09-01</td>\n",
       "      <td>224.921145</td>\n",
       "      <td>226.856082</td>\n",
       "      <td>223.843964</td>\n",
       "      <td>226.676559</td>\n",
       "      <td>25791200</td>\n",
       "      <td>0.0</td>\n",
       "      <td>0</td>\n",
       "      <td>msft</td>\n",
       "    </tr>\n",
       "    <tr>\n",
       "      <td>2</td>\n",
       "      <td>2020-09-02</td>\n",
       "      <td>227.374722</td>\n",
       "      <td>232.251952</td>\n",
       "      <td>226.756345</td>\n",
       "      <td>231.045105</td>\n",
       "      <td>34080800</td>\n",
       "      <td>0.0</td>\n",
       "      <td>0</td>\n",
       "      <td>msft</td>\n",
       "    </tr>\n",
       "    <tr>\n",
       "      <td>3</td>\n",
       "      <td>2020-09-03</td>\n",
       "      <td>228.671335</td>\n",
       "      <td>228.711224</td>\n",
       "      <td>214.398704</td>\n",
       "      <td>216.732590</td>\n",
       "      <td>58400300</td>\n",
       "      <td>0.0</td>\n",
       "      <td>0</td>\n",
       "      <td>msft</td>\n",
       "    </tr>\n",
       "    <tr>\n",
       "      <td>4</td>\n",
       "      <td>2020-09-04</td>\n",
       "      <td>214.538338</td>\n",
       "      <td>217.789820</td>\n",
       "      <td>204.654212</td>\n",
       "      <td>213.690552</td>\n",
       "      <td>59664100</td>\n",
       "      <td>0.0</td>\n",
       "      <td>0</td>\n",
       "      <td>msft</td>\n",
       "    </tr>\n",
       "  </tbody>\n",
       "</table>\n",
       "</div>"
      ],
      "text/plain": [
       "        date        open        high         low       close    volume  \\\n",
       "0 2020-08-31  226.407249  228.102806  223.724270  224.941086  28774200   \n",
       "1 2020-09-01  224.921145  226.856082  223.843964  226.676559  25791200   \n",
       "2 2020-09-02  227.374722  232.251952  226.756345  231.045105  34080800   \n",
       "3 2020-09-03  228.671335  228.711224  214.398704  216.732590  58400300   \n",
       "4 2020-09-04  214.538338  217.789820  204.654212  213.690552  59664100   \n",
       "\n",
       "   dividends  splits symbol  \n",
       "0        0.0       0   msft  \n",
       "1        0.0       0   msft  \n",
       "2        0.0       0   msft  \n",
       "3        0.0       0   msft  \n",
       "4        0.0       0   msft  "
      ]
     },
     "execution_count": 50,
     "metadata": {},
     "output_type": "execute_result"
    }
   ],
   "source": [
    "msft_data.head()"
   ]
  },
  {
   "cell_type": "code",
   "execution_count": 64,
   "metadata": {},
   "outputs": [
    {
     "name": "stdout",
     "output_type": "stream",
     "text": [
      "2021-02-13 12:52:12,265 INFO sqlalchemy.engine.base.Engine select relname from pg_class c join pg_namespace n on n.oid=c.relnamespace where pg_catalog.pg_table_is_visible(c.oid) and relname=%(name)s\n",
      "2021-02-13 12:52:12,266 INFO sqlalchemy.engine.base.Engine {'name': 'dailystocks'}\n",
      "2021-02-13 12:52:12,270 INFO sqlalchemy.engine.base.Engine BEGIN (implicit)\n",
      "2021-02-13 12:52:12,276 INFO sqlalchemy.engine.base.Engine INSERT INTO dailystocks (date, open, high, low, close, volume, dividends, splits, symbol) VALUES (%(date)s, %(open)s, %(high)s, %(low)s, %(close)s, %(volume)s, %(dividends)s, %(splits)s, %(symbol)s)\n",
      "2021-02-13 12:52:12,278 INFO sqlalchemy.engine.base.Engine ({'date': datetime.datetime(2020, 8, 31, 0, 0), 'open': 226.40724851008102, 'high': 228.1028063582178, 'low': 223.7242703107674, 'close': 224.9410858154297, 'volume': 28774200, 'dividends': 0.0, 'splits': 0, 'symbol': 'msft'}, {'date': datetime.datetime(2020, 9, 1, 0, 0), 'open': 224.92114539989774, 'high': 226.85608212921625, 'low': 223.84396365721696, 'close': 226.6765594482422, 'volume': 25791200, 'dividends': 0.0, 'splits': 0, 'symbol': 'msft'}, {'date': datetime.datetime(2020, 9, 2, 0, 0), 'open': 227.37472157228626, 'high': 232.25195210155024, 'low': 226.7563453982641, 'close': 231.04510498046875, 'volume': 34080800, 'dividends': 0.0, 'splits': 0, 'symbol': 'msft'}, {'date': datetime.datetime(2020, 9, 3, 0, 0), 'open': 228.6713348993166, 'high': 228.71122375506124, 'low': 214.39870357751116, 'close': 216.7325897216797, 'volume': 58400300, 'dividends': 0.0, 'splits': 0, 'symbol': 'msft'}, {'date': datetime.datetime(2020, 9, 4, 0, 0), 'open': 214.53833833077758, 'high': 217.7898203606175, 'low': 204.6542116074259, 'close': 213.6905517578125, 'volume': 59664100, 'dividends': 0.0, 'splits': 0, 'symbol': 'msft'}, {'date': datetime.datetime(2020, 9, 8, 0, 0), 'open': 205.9607828573313, 'high': 209.48156402958026, 'low': 201.67200806397076, 'close': 202.1308135986328, 'volume': 52924300, 'dividends': 0.0, 'splits': 0, 'symbol': 'msft'}, {'date': datetime.datetime(2020, 9, 9, 0, 0), 'open': 207.05791422300643, 'high': 214.27899915966643, 'low': 206.160255200879, 'close': 210.73826599121094, 'volume': 45679000, 'dividends': 0.0, 'splits': 0, 'symbol': 'msft'}, {'date': datetime.datetime(2020, 9, 10, 0, 0), 'open': 212.84275550886434, 'high': 214.1792680149963, 'low': 203.5770206155517, 'close': 204.83372497558594, 'volume': 35461500, 'dividends': 0.0, 'splits': 0, 'symbol': 'msft'}  ... displaying 10 of 115 total bound parameter sets ...  {'date': datetime.datetime(2021, 2, 11, 0, 0), 'open': 244.77999877929688, 'high': 245.14999389648438, 'low': 242.14999389648438, 'close': 244.49000549316406, 'volume': 15742200, 'dividends': 0.0, 'splits': 0, 'symbol': 'msft'}, {'date': datetime.datetime(2021, 2, 12, 0, 0), 'open': 243.92999267578125, 'high': 245.3000030517578, 'low': 242.72999572753906, 'close': 244.99000549316406, 'volume': 16552000, 'dividends': 0.0, 'splits': 0, 'symbol': 'msft'})\n",
      "2021-02-13 12:52:12,330 INFO sqlalchemy.engine.base.Engine COMMIT\n"
     ]
    }
   ],
   "source": [
    "msft_data.to_sql('dailystocks', con=engine , if_exists='append', index=False)"
   ]
  },
  {
   "cell_type": "code",
   "execution_count": 62,
   "metadata": {},
   "outputs": [],
   "source": [
    "try:\n",
    "    cur.execute(\"INSERT INTO companies ( \\\n",
    "        symbol, \\\n",
    "        name,\\\n",
    "        exchange,\\\n",
    "        sector,\\\n",
    "        summary) \\\n",
    "        VALUES (%s,%s,%s,%s,%s);\",\n",
    "        ('msft', \"Microsoft Company\",'NASDAQ', \"Technology\",'This will be the summary field ....'))\n",
    "except psycopg2.Error as e:\n",
    "    print(\"Error Inserting rows\")\n",
    "    print(e)"
   ]
  },
  {
   "cell_type": "code",
   "execution_count": 63,
   "metadata": {},
   "outputs": [
    {
     "name": "stdout",
     "output_type": "stream",
     "text": [
      "('msft', 'Microsoft Company', 'NASDAQ', 'Technology', 'This will be the summary field ....', datetime.datetime(2021, 2, 13, 12, 51, 20, 6209))\n"
     ]
    }
   ],
   "source": [
    "try:\n",
    "    cur.execute(\"SELECT * FROM companies;\")\n",
    "except psycopg2.Error as e:\n",
    "    print(\"Error reading rows\")\n",
    "    print(e)\n",
    "    \n",
    "row = cur. fetchone()\n",
    "while row:\n",
    "    print(row)\n",
    "    row=cur.fetchone()"
   ]
  },
  {
   "cell_type": "code",
   "execution_count": 1,
   "metadata": {},
   "outputs": [],
   "source": [
    "import pandas as pd\n",
    "import yfinance as yf\n",
    "import matplotlib.pyplot as  plt\n",
    "\n",
    "tickers = yf.Tickers('msft aapl goog')"
   ]
  },
  {
   "cell_type": "code",
   "execution_count": 8,
   "metadata": {},
   "outputs": [
    {
     "data": {
      "text/plain": [
       "{'zip': '98052-6399',\n",
       " 'sector': 'Technology',\n",
       " 'fullTimeEmployees': 163000,\n",
       " 'longBusinessSummary': 'Microsoft Corporation develops, licenses, and supports software, services, devices, and solutions worldwide. Its Productivity and Business Processes segment offers Office, Exchange, SharePoint, Microsoft Teams, Office 365 Security and Compliance, and Skype for Business, as well as related Client Access Licenses (CAL); Skype, Outlook.com, OneDrive, and LinkedIn; and Dynamics 365, a set of cloud-based and on-premises business solutions for small and medium businesses, large organizations, and divisions of enterprises. Its Intelligent Cloud segment licenses SQL and Windows Servers, Visual Studio, System Center, and related CALs; GitHub that provides a collaboration platform and code hosting service for developers; and Azure, a cloud platform. It also offers support services and Microsoft consulting services to assist customers in developing, deploying, and managing Microsoft server and desktop solutions; and training and certification to developers and IT professionals on various Microsoft products. Its More Personal Computing segment provides Windows original equipment manufacturer (OEM) licensing and other non-volume licensing of the Windows operating system; Windows Commercial, such as volume licensing of the Windows operating system, Windows cloud services, and other Windows commercial offerings; patent licensing; Windows Internet of Things; and MSN advertising. It also offers Surface, PC accessories, PCs, tablets, gaming and entertainment consoles, and other devices; Gaming, including Xbox hardware, and Xbox content and services; video games and third-party video game royalties; and Search, including Bing and Microsoft advertising. It sells its products through OEMs, distributors, and resellers; and directly through digital marketplaces, online stores, and retail stores. It has a strategic collaboration with DXC Technology. The company was founded in 1975 and is headquartered in Redmond, Washington.',\n",
       " 'city': 'Redmond',\n",
       " 'phone': '425-882-8080',\n",
       " 'state': 'WA',\n",
       " 'country': 'United States',\n",
       " 'companyOfficers': [],\n",
       " 'website': 'http://www.microsoft.com',\n",
       " 'maxAge': 1,\n",
       " 'address1': 'One Microsoft Way',\n",
       " 'industry': 'Software—Infrastructure',\n",
       " 'previousClose': 244.49,\n",
       " 'regularMarketOpen': 243.933,\n",
       " 'twoHundredDayAverage': 216.78307,\n",
       " 'trailingAnnualDividendYield': 0.008752914,\n",
       " 'payoutRatio': 0.31149998,\n",
       " 'volume24Hr': None,\n",
       " 'regularMarketDayHigh': 245.29,\n",
       " 'navPrice': None,\n",
       " 'averageDailyVolume10Day': 19720250,\n",
       " 'totalAssets': None,\n",
       " 'regularMarketPreviousClose': 244.49,\n",
       " 'fiftyDayAverage': 228.35303,\n",
       " 'trailingAnnualDividendRate': 2.14,\n",
       " 'open': 243.933,\n",
       " 'toCurrency': None,\n",
       " 'averageVolume10days': 19720250,\n",
       " 'expireDate': None,\n",
       " 'yield': None,\n",
       " 'algorithm': None,\n",
       " 'dividendRate': 2.24,\n",
       " 'exDividendDate': 1613520000,\n",
       " 'beta': 0.816969,\n",
       " 'circulatingSupply': None,\n",
       " 'startDate': None,\n",
       " 'regularMarketDayLow': 242.74,\n",
       " 'priceHint': 2,\n",
       " 'currency': 'USD',\n",
       " 'trailingPE': 36.52751,\n",
       " 'regularMarketVolume': 16561079,\n",
       " 'lastMarket': None,\n",
       " 'maxSupply': None,\n",
       " 'openInterest': None,\n",
       " 'marketCap': 1847768514560,\n",
       " 'volumeAllCurrencies': None,\n",
       " 'strikePrice': None,\n",
       " 'averageVolume': 28299744,\n",
       " 'priceToSalesTrailing12Months': 12.054543,\n",
       " 'dayLow': 242.74,\n",
       " 'ask': 245.3,\n",
       " 'ytdReturn': None,\n",
       " 'askSize': 800,\n",
       " 'volume': 16561079,\n",
       " 'fiftyTwoWeekHigh': 245.92,\n",
       " 'forwardPE': 30.283066,\n",
       " 'fromCurrency': None,\n",
       " 'fiveYearAvgDividendYield': 1.71,\n",
       " 'fiftyTwoWeekLow': 132.52,\n",
       " 'bid': 245.26,\n",
       " 'tradeable': False,\n",
       " 'dividendYield': 0.0091,\n",
       " 'bidSize': 1000,\n",
       " 'dayHigh': 245.29,\n",
       " 'exchange': 'NMS',\n",
       " 'shortName': 'Microsoft Corporation',\n",
       " 'longName': 'Microsoft Corporation',\n",
       " 'exchangeTimezoneName': 'America/New_York',\n",
       " 'exchangeTimezoneShortName': 'EST',\n",
       " 'isEsgPopulated': False,\n",
       " 'gmtOffSetMilliseconds': '-18000000',\n",
       " 'quoteType': 'EQUITY',\n",
       " 'symbol': 'MSFT',\n",
       " 'messageBoardId': 'finmb_21835',\n",
       " 'market': 'us_market',\n",
       " 'annualHoldingsTurnover': None,\n",
       " 'enterpriseToRevenue': 11.734,\n",
       " 'beta3Year': None,\n",
       " 'profitMargins': 0.33473998,\n",
       " 'enterpriseToEbitda': 25.089,\n",
       " '52WeekChange': 0.30849767,\n",
       " 'morningStarRiskRating': None,\n",
       " 'forwardEps': 8.09,\n",
       " 'revenueQuarterlyGrowth': None,\n",
       " 'sharesOutstanding': 7560500224,\n",
       " 'fundInceptionDate': None,\n",
       " 'annualReportExpenseRatio': None,\n",
       " 'bookValue': 17.259,\n",
       " 'sharesShort': 44533174,\n",
       " 'sharesPercentSharesOut': 0.0058999998,\n",
       " 'fundFamily': None,\n",
       " 'lastFiscalYearEnd': 1593475200,\n",
       " 'heldPercentInstitutions': 0.71844,\n",
       " 'netIncomeToCommon': 51309998080,\n",
       " 'trailingEps': 6.707,\n",
       " 'lastDividendValue': 0.56,\n",
       " 'SandP52WeekChange': 0.1675049,\n",
       " 'priceToBook': 14.194913,\n",
       " 'heldPercentInsiders': 0.00059,\n",
       " 'nextFiscalYearEnd': 1656547200,\n",
       " 'mostRecentQuarter': 1609372800,\n",
       " 'shortRatio': 1.39,\n",
       " 'sharesShortPreviousMonthDate': 1609372800,\n",
       " 'floatShares': 7431722306,\n",
       " 'enterpriseValue': 1798560415744,\n",
       " 'threeYearAverageReturn': None,\n",
       " 'lastSplitDate': 1045526400,\n",
       " 'lastSplitFactor': '2:1',\n",
       " 'legalType': None,\n",
       " 'lastDividendDate': 1605657600,\n",
       " 'morningStarOverallRating': None,\n",
       " 'earningsQuarterlyGrowth': 0.327,\n",
       " 'dateShortInterest': 1611878400,\n",
       " 'pegRatio': 1.82,\n",
       " 'lastCapGain': None,\n",
       " 'shortPercentOfFloat': 0.0058999998,\n",
       " 'sharesShortPriorMonth': 39201229,\n",
       " 'impliedSharesOutstanding': None,\n",
       " 'category': None,\n",
       " 'fiveYearAverageReturn': None,\n",
       " 'regularMarketPrice': 243.933,\n",
       " 'logo_url': 'https://logo.clearbit.com/microsoft.com'}"
      ]
     },
     "execution_count": 8,
     "metadata": {},
     "output_type": "execute_result"
    }
   ],
   "source": [
    "tickers.tickers.MSFT.info"
   ]
  },
  {
   "cell_type": "code",
   "execution_count": 13,
   "metadata": {},
   "outputs": [
    {
     "name": "stdout",
     "output_type": "stream",
     "text": [
      "[*********************100%***********************]  1 of 1 completed\n"
     ]
    }
   ],
   "source": [
    "from pandas_datareader import data as pdr\n",
    "#import fix_yahoo_finance as yf\n",
    "import yfinance as yf\n",
    "from datetime import datetime\n",
    "\n",
    "yf.pdr_override()\n",
    "a = pdr.get_data_yahoo('MSFT', start=datetime(2017, 1, 1), end=datetime(2021, 2, 14))"
   ]
  },
  {
   "cell_type": "code",
   "execution_count": 15,
   "metadata": {},
   "outputs": [],
   "source": [
    "msft = yf.Ticker('msft')"
   ]
  },
  {
   "cell_type": "code",
   "execution_count": 17,
   "metadata": {},
   "outputs": [],
   "source": [
    "msftinfo = msft.info"
   ]
  },
  {
   "cell_type": "code",
   "execution_count": 24,
   "metadata": {},
   "outputs": [
    {
     "name": "stdout",
     "output_type": "stream",
     "text": [
      "Microsoft Corporation\n",
      "Technology\n",
      "36.52751\n",
      "30.283066\n",
      "2.24\n",
      "1847768514560\n",
      "Microsoft Corporation develops, licenses, and supports software, services, devices, and solutions worldwide. Its Productivity and Business Processes segment offers Office, Exchange, SharePoint, Microsoft Teams, Office 365 Security and Compliance, and Skype for Business, as well as related Client Access Licenses (CAL); Skype, Outlook.com, OneDrive, and LinkedIn; and Dynamics 365, a set of cloud-based and on-premises business solutions for small and medium businesses, large organizations, and divisions of enterprises. Its Intelligent Cloud segment licenses SQL and Windows Servers, Visual Studio, System Center, and related CALs; GitHub that provides a collaboration platform and code hosting service for developers; and Azure, a cloud platform. It also offers support services and Microsoft consulting services to assist customers in developing, deploying, and managing Microsoft server and desktop solutions; and training and certification to developers and IT professionals on various Microsoft products. Its More Personal Computing segment provides Windows original equipment manufacturer (OEM) licensing and other non-volume licensing of the Windows operating system; Windows Commercial, such as volume licensing of the Windows operating system, Windows cloud services, and other Windows commercial offerings; patent licensing; Windows Internet of Things; and MSN advertising. It also offers Surface, PC accessories, PCs, tablets, gaming and entertainment consoles, and other devices; Gaming, including Xbox hardware, and Xbox content and services; video games and third-party video game royalties; and Search, including Bing and Microsoft advertising. It sells its products through OEMs, distributors, and resellers; and directly through digital marketplaces, online stores, and retail stores. It has a strategic collaboration with DXC Technology. The company was founded in 1975 and is headquartered in Redmond, Washington.\n"
     ]
    }
   ],
   "source": [
    "print(msftinfo['shortName'])\n",
    "print(msftinfo['sector'])\n",
    "print(msftinfo['trailingPE'])\n",
    "print(msftinfo['forwardPE'])\n",
    "print(msftinfo['dividendRate'])\n",
    "print(msftinfo['marketCap'])\n",
    "print(msftinfo['longBusinessSummary'])"
   ]
  },
  {
   "cell_type": "code",
   "execution_count": 28,
   "metadata": {},
   "outputs": [],
   "source": [
    "df = pd.DataFrame(columns=['symbol','name','exchange','sector','trailing_pe','forward_pe','marketcap','summary'])"
   ]
  },
  {
   "cell_type": "code",
   "execution_count": 29,
   "metadata": {},
   "outputs": [],
   "source": [
    "df = df.append({'symbol': 'msft',\n",
    "                'name':msftinfo['shortName'],\n",
    "                'exchange':'NASDAQ',\n",
    "                'sector':msftinfo['sector'],\n",
    "                'trailing_pe':msftinfo['trailingPE'],\n",
    "                'forward_pe':msftinfo['forwardPE'],\n",
    "                'marketcap':msftinfo['marketCap'],\n",
    "                'summary':msftinfo['longBusinessSummary']}, \n",
    "               ignore_index=True)"
   ]
  },
  {
   "cell_type": "code",
   "execution_count": 30,
   "metadata": {},
   "outputs": [
    {
     "data": {
      "text/html": [
       "<div>\n",
       "<style scoped>\n",
       "    .dataframe tbody tr th:only-of-type {\n",
       "        vertical-align: middle;\n",
       "    }\n",
       "\n",
       "    .dataframe tbody tr th {\n",
       "        vertical-align: top;\n",
       "    }\n",
       "\n",
       "    .dataframe thead th {\n",
       "        text-align: right;\n",
       "    }\n",
       "</style>\n",
       "<table border=\"1\" class=\"dataframe\">\n",
       "  <thead>\n",
       "    <tr style=\"text-align: right;\">\n",
       "      <th></th>\n",
       "      <th>symbol</th>\n",
       "      <th>name</th>\n",
       "      <th>exchange</th>\n",
       "      <th>sector</th>\n",
       "      <th>trailing_pe</th>\n",
       "      <th>forward_pe</th>\n",
       "      <th>marketcap</th>\n",
       "      <th>summary</th>\n",
       "    </tr>\n",
       "  </thead>\n",
       "  <tbody>\n",
       "    <tr>\n",
       "      <td>0</td>\n",
       "      <td>msft</td>\n",
       "      <td>Microsoft Corporation</td>\n",
       "      <td>NASDAQ</td>\n",
       "      <td>Technology</td>\n",
       "      <td>36.52751</td>\n",
       "      <td>30.283066</td>\n",
       "      <td>1847768514560</td>\n",
       "      <td>Microsoft Corporation develops, licenses, and ...</td>\n",
       "    </tr>\n",
       "  </tbody>\n",
       "</table>\n",
       "</div>"
      ],
      "text/plain": [
       "  symbol                   name exchange      sector  trailing_pe  forward_pe  \\\n",
       "0   msft  Microsoft Corporation   NASDAQ  Technology     36.52751   30.283066   \n",
       "\n",
       "       marketcap                                            summary  \n",
       "0  1847768514560  Microsoft Corporation develops, licenses, and ...  "
      ]
     },
     "execution_count": 30,
     "metadata": {},
     "output_type": "execute_result"
    }
   ],
   "source": [
    "df.head()"
   ]
  },
  {
   "cell_type": "code",
   "execution_count": 42,
   "metadata": {},
   "outputs": [],
   "source": [
    "_ticketinfo = yf.Ticker('AAPL').info"
   ]
  },
  {
   "cell_type": "code",
   "execution_count": 43,
   "metadata": {},
   "outputs": [
    {
     "data": {
      "text/plain": [
       "'Technology'"
      ]
     },
     "execution_count": 43,
     "metadata": {},
     "output_type": "execute_result"
    }
   ],
   "source": [
    "_ticketinfo['sector']"
   ]
  },
  {
   "cell_type": "code",
   "execution_count": null,
   "metadata": {},
   "outputs": [],
   "source": []
  }
 ],
 "metadata": {
  "kernelspec": {
   "display_name": "Python 3",
   "language": "python",
   "name": "python3"
  },
  "language_info": {
   "codemirror_mode": {
    "name": "ipython",
    "version": 3
   },
   "file_extension": ".py",
   "mimetype": "text/x-python",
   "name": "python",
   "nbconvert_exporter": "python",
   "pygments_lexer": "ipython3",
   "version": "3.7.4"
  }
 },
 "nbformat": 4,
 "nbformat_minor": 2
}
